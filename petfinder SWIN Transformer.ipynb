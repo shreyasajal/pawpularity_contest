{
 "cells": [
  {
   "cell_type": "code",
   "execution_count": 1,
   "id": "10812faf",
   "metadata": {
    "_cell_guid": "b1076dfc-b9ad-4769-8c92-a6c4dae69d19",
    "_uuid": "8f2839f25d086af736a60e9eeb907d3b93b6e0e5",
    "execution": {
     "iopub.execute_input": "2021-12-18T22:25:30.703553Z",
     "iopub.status.busy": "2021-12-18T22:25:30.702049Z",
     "iopub.status.idle": "2021-12-18T22:25:55.384011Z",
     "shell.execute_reply": "2021-12-18T22:25:55.384479Z",
     "shell.execute_reply.started": "2021-12-18T22:18:09.811935Z"
    },
    "papermill": {
     "duration": 24.706837,
     "end_time": "2021-12-18T22:25:55.384845",
     "exception": false,
     "start_time": "2021-12-18T22:25:30.678008",
     "status": "completed"
    },
    "tags": []
   },
   "outputs": [
    {
     "name": "stdout",
     "output_type": "stream",
     "text": [
      "Collecting git+https://github.com/rwightman/pytorch-image-models\r\n",
      "  Cloning https://github.com/rwightman/pytorch-image-models to /tmp/pip-req-build-xql1ykk_\r\n",
      "  Running command git clone --filter=blob:none -q https://github.com/rwightman/pytorch-image-models /tmp/pip-req-build-xql1ykk_\r\n",
      "  Resolved https://github.com/rwightman/pytorch-image-models to commit f55c22bebf9d8afc449d317a723231ef72e0d662\r\n",
      "  Preparing metadata (setup.py) ... \u001b[?25l-\b \b\\\b \bdone\r\n",
      "\u001b[?25hRequirement already satisfied: torch>=1.4 in /opt/conda/lib/python3.7/site-packages (from timm==0.5.0) (1.9.1)\r\n",
      "Requirement already satisfied: torchvision in /opt/conda/lib/python3.7/site-packages (from timm==0.5.0) (0.10.1)\r\n",
      "Requirement already satisfied: typing-extensions in /opt/conda/lib/python3.7/site-packages (from torch>=1.4->timm==0.5.0) (3.10.0.2)\r\n",
      "Requirement already satisfied: pillow>=5.3.0 in /opt/conda/lib/python3.7/site-packages (from torchvision->timm==0.5.0) (8.2.0)\r\n",
      "Requirement already satisfied: numpy in /opt/conda/lib/python3.7/site-packages (from torchvision->timm==0.5.0) (1.19.5)\r\n",
      "Building wheels for collected packages: timm\r\n",
      "  Building wheel for timm (setup.py) ... \u001b[?25l-\b \b\\\b \b|\b \b/\b \bdone\r\n",
      "\u001b[?25h  Created wheel for timm: filename=timm-0.5.0-py3-none-any.whl size=425107 sha256=490d87bfac86d96d167351ef1347a34a2c9ccafd8f5b33dbfc51f11df62a8ba7\r\n",
      "  Stored in directory: /tmp/pip-ephem-wheel-cache-1nv2mr0h/wheels/69/3d/b0/be55cbadabd87a0e1875d63c7492d199097a39cc2433637650\r\n",
      "Successfully built timm\r\n",
      "Installing collected packages: timm\r\n",
      "Successfully installed timm-0.5.0\r\n",
      "\u001b[33mWARNING: Running pip as the 'root' user can result in broken permissions and conflicting behaviour with the system package manager. It is recommended to use a virtual environment instead: https://pip.pypa.io/warnings/venv\u001b[0m\r\n",
      "Requirement already satisfied: wandb in /opt/conda/lib/python3.7/site-packages (0.12.7)\r\n",
      "Collecting wandb\r\n",
      "  Downloading wandb-0.12.9-py2.py3-none-any.whl (1.7 MB)\r\n",
      "     |████████████████████████████████| 1.7 MB 896 kB/s            \r\n",
      "\u001b[?25hRequirement already satisfied: sentry-sdk>=1.0.0 in /opt/conda/lib/python3.7/site-packages (from wandb) (1.5.0)\r\n",
      "Requirement already satisfied: protobuf>=3.12.0 in /opt/conda/lib/python3.7/site-packages (from wandb) (3.19.1)\r\n",
      "Requirement already satisfied: docker-pycreds>=0.4.0 in /opt/conda/lib/python3.7/site-packages (from wandb) (0.4.0)\r\n",
      "Requirement already satisfied: yaspin>=1.0.0 in /opt/conda/lib/python3.7/site-packages (from wandb) (2.1.0)\r\n",
      "Requirement already satisfied: GitPython>=1.0.0 in /opt/conda/lib/python3.7/site-packages (from wandb) (3.1.24)\r\n",
      "Requirement already satisfied: psutil>=5.0.0 in /opt/conda/lib/python3.7/site-packages (from wandb) (5.8.0)\r\n",
      "Requirement already satisfied: pathtools in /opt/conda/lib/python3.7/site-packages (from wandb) (0.1.2)\r\n",
      "Requirement already satisfied: requests<3,>=2.0.0 in /opt/conda/lib/python3.7/site-packages (from wandb) (2.25.1)\r\n",
      "Requirement already satisfied: PyYAML in /opt/conda/lib/python3.7/site-packages (from wandb) (6.0)\r\n",
      "Requirement already satisfied: configparser>=3.8.1 in /opt/conda/lib/python3.7/site-packages (from wandb) (5.1.0)\r\n",
      "Requirement already satisfied: promise<3,>=2.0 in /opt/conda/lib/python3.7/site-packages (from wandb) (2.3)\r\n",
      "Requirement already satisfied: python-dateutil>=2.6.1 in /opt/conda/lib/python3.7/site-packages (from wandb) (2.8.0)\r\n",
      "Requirement already satisfied: six>=1.13.0 in /opt/conda/lib/python3.7/site-packages (from wandb) (1.16.0)\r\n",
      "Requirement already satisfied: Click!=8.0.0,>=7.0 in /opt/conda/lib/python3.7/site-packages (from wandb) (8.0.3)\r\n",
      "Requirement already satisfied: shortuuid>=0.5.0 in /opt/conda/lib/python3.7/site-packages (from wandb) (1.0.8)\r\n",
      "Requirement already satisfied: subprocess32>=3.5.3 in /opt/conda/lib/python3.7/site-packages (from wandb) (3.5.4)\r\n",
      "Requirement already satisfied: importlib-metadata in /opt/conda/lib/python3.7/site-packages (from Click!=8.0.0,>=7.0->wandb) (4.8.2)\r\n",
      "Requirement already satisfied: typing-extensions>=3.7.4.3 in /opt/conda/lib/python3.7/site-packages (from GitPython>=1.0.0->wandb) (3.10.0.2)\r\n",
      "Requirement already satisfied: gitdb<5,>=4.0.1 in /opt/conda/lib/python3.7/site-packages (from GitPython>=1.0.0->wandb) (4.0.9)\r\n",
      "Requirement already satisfied: certifi>=2017.4.17 in /opt/conda/lib/python3.7/site-packages (from requests<3,>=2.0.0->wandb) (2021.10.8)\r\n",
      "Requirement already satisfied: idna<3,>=2.5 in /opt/conda/lib/python3.7/site-packages (from requests<3,>=2.0.0->wandb) (2.10)\r\n",
      "Requirement already satisfied: urllib3<1.27,>=1.21.1 in /opt/conda/lib/python3.7/site-packages (from requests<3,>=2.0.0->wandb) (1.26.7)\r\n",
      "Requirement already satisfied: chardet<5,>=3.0.2 in /opt/conda/lib/python3.7/site-packages (from requests<3,>=2.0.0->wandb) (4.0.0)\r\n",
      "Requirement already satisfied: termcolor<2.0.0,>=1.1.0 in /opt/conda/lib/python3.7/site-packages (from yaspin>=1.0.0->wandb) (1.1.0)\r\n",
      "Requirement already satisfied: smmap<6,>=3.0.1 in /opt/conda/lib/python3.7/site-packages (from gitdb<5,>=4.0.1->GitPython>=1.0.0->wandb) (3.0.5)\r\n",
      "Requirement already satisfied: zipp>=0.5 in /opt/conda/lib/python3.7/site-packages (from importlib-metadata->Click!=8.0.0,>=7.0->wandb) (3.6.0)\r\n",
      "Installing collected packages: wandb\r\n",
      "  Attempting uninstall: wandb\r\n",
      "    Found existing installation: wandb 0.12.7\r\n",
      "    Uninstalling wandb-0.12.7:\r\n",
      "      Successfully uninstalled wandb-0.12.7\r\n",
      "Successfully installed wandb-0.12.9\r\n",
      "\u001b[33mWARNING: Running pip as the 'root' user can result in broken permissions and conflicting behaviour with the system package manager. It is recommended to use a virtual environment instead: https://pip.pypa.io/warnings/venv\u001b[0m\r\n"
     ]
    }
   ],
   "source": [
    "!pip install git+https://github.com/rwightman/pytorch-image-models\n",
    "!pip install --upgrade wandb"
   ]
  },
  {
   "cell_type": "code",
   "execution_count": 2,
   "id": "6563eca8",
   "metadata": {
    "execution": {
     "iopub.execute_input": "2021-12-18T22:25:55.459866Z",
     "iopub.status.busy": "2021-12-18T22:25:55.458541Z",
     "iopub.status.idle": "2021-12-18T22:25:59.847333Z",
     "shell.execute_reply": "2021-12-18T22:25:59.846861Z",
     "shell.execute_reply.started": "2021-12-18T22:18:36.548176Z"
    },
    "papermill": {
     "duration": 4.428951,
     "end_time": "2021-12-18T22:25:59.847459",
     "exception": false,
     "start_time": "2021-12-18T22:25:55.418508",
     "status": "completed"
    },
    "tags": []
   },
   "outputs": [],
   "source": [
    "import os\n",
    "import gc\n",
    "import cv2\n",
    "import copy\n",
    "import time\n",
    "import random\n",
    "from PIL import Image\n",
    "\n",
    "# For data manipulation\n",
    "import numpy as np\n",
    "import pandas as pd\n",
    "\n",
    "# Pytorch Imports\n",
    "import torch\n",
    "import torch.nn as nn\n",
    "import torch.optim as optim\n",
    "from torch.optim import lr_scheduler\n",
    "from torch.utils.data import Dataset, DataLoader\n",
    "from torch.cuda import amp\n",
    "\n",
    "# Utils\n",
    "import joblib\n",
    "from tqdm import tqdm\n",
    "from collections import defaultdict\n",
    "\n",
    "# Sklearn Imports\n",
    "from sklearn.metrics import mean_squared_error\n",
    "from sklearn.model_selection import StratifiedKFold, KFold\n",
    "\n",
    "import timm\n",
    "\n",
    "# Albumentations for augmentations\n",
    "import albumentations as A\n",
    "from albumentations.pytorch import ToTensorV2\n",
    "\n",
    "# For colored terminal text\n",
    "from colorama import Fore, Back, Style\n",
    "c_ = Fore.CYAN\n",
    "sr_ = Style.RESET_ALL\n",
    "\n",
    "import warnings\n",
    "warnings.filterwarnings(\"ignore\")\n",
    "\n",
    "# For descriptive error messages\n",
    "os.environ['CUDA_LAUNCH_BLOCKING'] = \"1\""
   ]
  },
  {
   "cell_type": "code",
   "execution_count": 3,
   "id": "f1800aa7",
   "metadata": {
    "execution": {
     "iopub.execute_input": "2021-12-18T22:25:59.906166Z",
     "iopub.status.busy": "2021-12-18T22:25:59.905419Z",
     "iopub.status.idle": "2021-12-18T22:25:59.907745Z",
     "shell.execute_reply": "2021-12-18T22:25:59.907339Z",
     "shell.execute_reply.started": "2021-12-18T22:18:41.032325Z"
    },
    "papermill": {
     "duration": 0.032841,
     "end_time": "2021-12-18T22:25:59.907849",
     "exception": false,
     "start_time": "2021-12-18T22:25:59.875008",
     "status": "completed"
    },
    "tags": []
   },
   "outputs": [],
   "source": [
    "ROOT_DIR = \"../input/petfinder-pawpularity-score\"\n",
    "TRAIN_DIR = \"../input/petfinder-pawpularity-score/train\"\n",
    "TEST_DIR = \"../input/petfinder-pawpularity-score/test\""
   ]
  },
  {
   "cell_type": "code",
   "execution_count": 4,
   "id": "ab6e7103",
   "metadata": {
    "execution": {
     "iopub.execute_input": "2021-12-18T22:25:59.967628Z",
     "iopub.status.busy": "2021-12-18T22:25:59.966872Z",
     "iopub.status.idle": "2021-12-18T22:26:01.257730Z",
     "shell.execute_reply": "2021-12-18T22:26:01.258146Z",
     "shell.execute_reply.started": "2021-12-18T22:18:41.040412Z"
    },
    "papermill": {
     "duration": 1.323794,
     "end_time": "2021-12-18T22:26:01.258302",
     "exception": false,
     "start_time": "2021-12-18T22:25:59.934508",
     "status": "completed"
    },
    "tags": []
   },
   "outputs": [
    {
     "name": "stderr",
     "output_type": "stream",
     "text": [
      "\u001b[34m\u001b[1mwandb\u001b[0m: W&B API key is configured (use `wandb login --relogin` to force relogin)\n",
      "\u001b[34m\u001b[1mwandb\u001b[0m: \u001b[33mWARNING\u001b[0m If you're specifying your api key in code, ensure this code is not shared publically.\n",
      "\u001b[34m\u001b[1mwandb\u001b[0m: \u001b[33mWARNING\u001b[0m Consider setting the WANDB_API_KEY environment variable, or running `wandb login` from the command line.\n",
      "\u001b[34m\u001b[1mwandb\u001b[0m: Appending key for api.wandb.ai to your netrc file: /root/.netrc\n"
     ]
    }
   ],
   "source": [
    "import wandb\n",
    "\n",
    "try:\n",
    "    from kaggle_secrets import UserSecretsClient\n",
    "    user_secrets = UserSecretsClient()\n",
    "    api_key = user_secrets.get_secret(\"wandb_api\")\n",
    "    wandb.login(key=api_key)\n",
    "    anony = None\n",
    "except:\n",
    "    anony = \"must\"\n",
    "    print('If you want to use your W&B account, go to Add-ons -> Secrets and provide your W&B access token. Use the Label name as wandb_api. \\nGet your W&B access token from here: https://wandb.ai/authorize')"
   ]
  },
  {
   "cell_type": "code",
   "execution_count": 5,
   "id": "15f6dbd6",
   "metadata": {
    "execution": {
     "iopub.execute_input": "2021-12-18T22:26:01.317952Z",
     "iopub.status.busy": "2021-12-18T22:26:01.317152Z",
     "iopub.status.idle": "2021-12-18T22:26:01.366360Z",
     "shell.execute_reply": "2021-12-18T22:26:01.365914Z",
     "shell.execute_reply.started": "2021-12-18T22:18:42.820317Z"
    },
    "papermill": {
     "duration": 0.079968,
     "end_time": "2021-12-18T22:26:01.366468",
     "exception": false,
     "start_time": "2021-12-18T22:26:01.286500",
     "status": "completed"
    },
    "tags": []
   },
   "outputs": [],
   "source": [
    "CONFIG = dict(\n",
    "    seed = 42,\n",
    "    backbone = 'swin_large_patch4_window12_384_in22k',\n",
    "    embedder = 'tf_efficientnet_b4_ns',\n",
    "    train_batch_size = 8,\n",
    "    valid_batch_size = 32,\n",
    "    img_size = 384,\n",
    "    epochs = 20,\n",
    "    learning_rate = 1e-4,\n",
    "    scheduler = 'CosineAnnealingLR',\n",
    "    min_lr = 1e-6,\n",
    "    T_max = 100,\n",
    "#     T_0 = 25,\n",
    "#     warmup_epochs = 0,\n",
    "    weight_decay = 1e-6,\n",
    "    n_accumulate = 1,\n",
    "    n_fold = 5,\n",
    "    num_classes = 1,\n",
    "    device = torch.device(\"cuda:0\" if torch.cuda.is_available() else \"cpu\"),\n",
    "    competition = 'PetFinder',\n",
    "    _wandb_kernel = 'Aishik'\n",
    ")"
   ]
  },
  {
   "cell_type": "code",
   "execution_count": 6,
   "id": "d724b780",
   "metadata": {
    "execution": {
     "iopub.execute_input": "2021-12-18T22:26:01.427961Z",
     "iopub.status.busy": "2021-12-18T22:26:01.427282Z",
     "iopub.status.idle": "2021-12-18T22:26:01.432031Z",
     "shell.execute_reply": "2021-12-18T22:26:01.431624Z",
     "shell.execute_reply.started": "2021-12-18T22:18:42.874728Z"
    },
    "papermill": {
     "duration": 0.037977,
     "end_time": "2021-12-18T22:26:01.432142",
     "exception": false,
     "start_time": "2021-12-18T22:26:01.394165",
     "status": "completed"
    },
    "tags": []
   },
   "outputs": [],
   "source": [
    "def set_seed(seed = 42):\n",
    "    '''Sets the seed of the entire notebook so results are the same every time we run.\n",
    "    This is for REPRODUCIBILITY.'''\n",
    "    np.random.seed(seed)\n",
    "    random.seed(seed)\n",
    "    torch.manual_seed(seed)\n",
    "    torch.cuda.manual_seed(seed)\n",
    "    # When running on the CuDNN backend, two further options must be set\n",
    "    torch.backends.cudnn.deterministic = True\n",
    "    torch.backends.cudnn.benchmark = False\n",
    "    # Set a fixed value for the hash seed\n",
    "    os.environ['PYTHONHASHSEED'] = str(seed)\n",
    "    \n",
    "set_seed(CONFIG['seed'])"
   ]
  },
  {
   "cell_type": "code",
   "execution_count": 7,
   "id": "7188d1f6",
   "metadata": {
    "execution": {
     "iopub.execute_input": "2021-12-18T22:26:01.492740Z",
     "iopub.status.busy": "2021-12-18T22:26:01.491987Z",
     "iopub.status.idle": "2021-12-18T22:26:01.493928Z",
     "shell.execute_reply": "2021-12-18T22:26:01.494338Z",
     "shell.execute_reply.started": "2021-12-18T22:18:42.891906Z"
    },
    "papermill": {
     "duration": 0.033504,
     "end_time": "2021-12-18T22:26:01.494453",
     "exception": false,
     "start_time": "2021-12-18T22:26:01.460949",
     "status": "completed"
    },
    "tags": []
   },
   "outputs": [],
   "source": [
    "def get_train_file_path(id):\n",
    "    return f\"{TRAIN_DIR}/{id}.jpg\""
   ]
  },
  {
   "cell_type": "code",
   "execution_count": 8,
   "id": "a7061277",
   "metadata": {
    "execution": {
     "iopub.execute_input": "2021-12-18T22:26:01.554414Z",
     "iopub.status.busy": "2021-12-18T22:26:01.553872Z",
     "iopub.status.idle": "2021-12-18T22:26:01.594676Z",
     "shell.execute_reply": "2021-12-18T22:26:01.594239Z",
     "shell.execute_reply.started": "2021-12-18T22:18:42.897629Z"
    },
    "papermill": {
     "duration": 0.072632,
     "end_time": "2021-12-18T22:26:01.594788",
     "exception": false,
     "start_time": "2021-12-18T22:26:01.522156",
     "status": "completed"
    },
    "tags": []
   },
   "outputs": [],
   "source": [
    "df = pd.read_csv(f\"{ROOT_DIR}/train.csv\")\n",
    "df['file_path'] = df['Id'].apply(get_train_file_path)"
   ]
  },
  {
   "cell_type": "code",
   "execution_count": 9,
   "id": "c5d7c57f",
   "metadata": {
    "execution": {
     "iopub.execute_input": "2021-12-18T22:26:01.656908Z",
     "iopub.status.busy": "2021-12-18T22:26:01.656251Z",
     "iopub.status.idle": "2021-12-18T22:26:01.659160Z",
     "shell.execute_reply": "2021-12-18T22:26:01.659547Z",
     "shell.execute_reply.started": "2021-12-18T22:18:42.944728Z"
    },
    "papermill": {
     "duration": 0.036742,
     "end_time": "2021-12-18T22:26:01.659689",
     "exception": false,
     "start_time": "2021-12-18T22:26:01.622947",
     "status": "completed"
    },
    "tags": []
   },
   "outputs": [
    {
     "data": {
      "text/plain": [
       "(9912, 15)"
      ]
     },
     "execution_count": 9,
     "metadata": {},
     "output_type": "execute_result"
    }
   ],
   "source": [
    "df.shape"
   ]
  },
  {
   "cell_type": "code",
   "execution_count": 10,
   "id": "f979f9ba",
   "metadata": {
    "execution": {
     "iopub.execute_input": "2021-12-18T22:26:01.720667Z",
     "iopub.status.busy": "2021-12-18T22:26:01.719889Z",
     "iopub.status.idle": "2021-12-18T22:26:01.725988Z",
     "shell.execute_reply": "2021-12-18T22:26:01.726364Z",
     "shell.execute_reply.started": "2021-12-18T22:18:42.955169Z"
    },
    "papermill": {
     "duration": 0.039118,
     "end_time": "2021-12-18T22:26:01.726480",
     "exception": false,
     "start_time": "2021-12-18T22:26:01.687362",
     "status": "completed"
    },
    "tags": []
   },
   "outputs": [
    {
     "data": {
      "text/plain": [
       "9912"
      ]
     },
     "execution_count": 10,
     "metadata": {},
     "output_type": "execute_result"
    }
   ],
   "source": [
    "df[\"Id\"].nunique()"
   ]
  },
  {
   "cell_type": "code",
   "execution_count": 11,
   "id": "4b721d0d",
   "metadata": {
    "execution": {
     "iopub.execute_input": "2021-12-18T22:26:01.786358Z",
     "iopub.status.busy": "2021-12-18T22:26:01.785770Z",
     "iopub.status.idle": "2021-12-18T22:26:01.787979Z",
     "shell.execute_reply": "2021-12-18T22:26:01.788420Z",
     "shell.execute_reply.started": "2021-12-18T22:18:42.967240Z"
    },
    "papermill": {
     "duration": 0.033959,
     "end_time": "2021-12-18T22:26:01.788529",
     "exception": false,
     "start_time": "2021-12-18T22:26:01.754570",
     "status": "completed"
    },
    "tags": []
   },
   "outputs": [],
   "source": [
    "feature_cols = [col for col in df.columns if col not in ['Id', 'Pawpularity', 'file_path']]"
   ]
  },
  {
   "cell_type": "code",
   "execution_count": 12,
   "id": "a7a7d2ee",
   "metadata": {
    "execution": {
     "iopub.execute_input": "2021-12-18T22:26:01.851356Z",
     "iopub.status.busy": "2021-12-18T22:26:01.850613Z",
     "iopub.status.idle": "2021-12-18T22:26:01.853018Z",
     "shell.execute_reply": "2021-12-18T22:26:01.852566Z",
     "shell.execute_reply.started": "2021-12-18T22:18:42.973458Z"
    },
    "papermill": {
     "duration": 0.036219,
     "end_time": "2021-12-18T22:26:01.853115",
     "exception": false,
     "start_time": "2021-12-18T22:26:01.816896",
     "status": "completed"
    },
    "tags": []
   },
   "outputs": [],
   "source": [
    "def create_folds(df, n_s=5, n_grp=None):\n",
    "    df['kfold'] = -1\n",
    "    \n",
    "    if n_grp is None:\n",
    "        skf = KFold(n_splits=n_s, random_state=CONFIG['seed'])\n",
    "        target = df['Pawpularity']\n",
    "    else:\n",
    "        skf = StratifiedKFold(n_splits=n_s, shuffle=True, random_state=CONFIG['seed'])\n",
    "        df['grp'] = pd.cut(df['Pawpularity'], n_grp, labels=False)\n",
    "        target = df.grp\n",
    "    \n",
    "    for fold_no, (t, v) in enumerate(skf.split(target, target)):\n",
    "        df.loc[v, 'kfold'] = fold_no\n",
    "\n",
    "    df = df.drop('grp', axis=1)\n",
    "    \n",
    "    return df"
   ]
  },
  {
   "cell_type": "code",
   "execution_count": 13,
   "id": "70553fe7",
   "metadata": {
    "execution": {
     "iopub.execute_input": "2021-12-18T22:26:01.915026Z",
     "iopub.status.busy": "2021-12-18T22:26:01.914504Z",
     "iopub.status.idle": "2021-12-18T22:26:01.945369Z",
     "shell.execute_reply": "2021-12-18T22:26:01.944926Z",
     "shell.execute_reply.started": "2021-12-18T22:18:42.983549Z"
    },
    "papermill": {
     "duration": 0.064388,
     "end_time": "2021-12-18T22:26:01.945467",
     "exception": false,
     "start_time": "2021-12-18T22:26:01.881079",
     "status": "completed"
    },
    "tags": []
   },
   "outputs": [
    {
     "data": {
      "text/html": [
       "<div>\n",
       "<style scoped>\n",
       "    .dataframe tbody tr th:only-of-type {\n",
       "        vertical-align: middle;\n",
       "    }\n",
       "\n",
       "    .dataframe tbody tr th {\n",
       "        vertical-align: top;\n",
       "    }\n",
       "\n",
       "    .dataframe thead th {\n",
       "        text-align: right;\n",
       "    }\n",
       "</style>\n",
       "<table border=\"1\" class=\"dataframe\">\n",
       "  <thead>\n",
       "    <tr style=\"text-align: right;\">\n",
       "      <th></th>\n",
       "      <th>Id</th>\n",
       "      <th>Subject Focus</th>\n",
       "      <th>Eyes</th>\n",
       "      <th>Face</th>\n",
       "      <th>Near</th>\n",
       "      <th>Action</th>\n",
       "      <th>Accessory</th>\n",
       "      <th>Group</th>\n",
       "      <th>Collage</th>\n",
       "      <th>Human</th>\n",
       "      <th>Occlusion</th>\n",
       "      <th>Info</th>\n",
       "      <th>Blur</th>\n",
       "      <th>Pawpularity</th>\n",
       "      <th>file_path</th>\n",
       "      <th>kfold</th>\n",
       "    </tr>\n",
       "  </thead>\n",
       "  <tbody>\n",
       "    <tr>\n",
       "      <th>0</th>\n",
       "      <td>0007de18844b0dbbb5e1f607da0606e0</td>\n",
       "      <td>0</td>\n",
       "      <td>1</td>\n",
       "      <td>1</td>\n",
       "      <td>1</td>\n",
       "      <td>0</td>\n",
       "      <td>0</td>\n",
       "      <td>1</td>\n",
       "      <td>0</td>\n",
       "      <td>0</td>\n",
       "      <td>0</td>\n",
       "      <td>0</td>\n",
       "      <td>0</td>\n",
       "      <td>63</td>\n",
       "      <td>../input/petfinder-pawpularity-score/train/000...</td>\n",
       "      <td>0</td>\n",
       "    </tr>\n",
       "    <tr>\n",
       "      <th>1</th>\n",
       "      <td>0009c66b9439883ba2750fb825e1d7db</td>\n",
       "      <td>0</td>\n",
       "      <td>1</td>\n",
       "      <td>1</td>\n",
       "      <td>0</td>\n",
       "      <td>0</td>\n",
       "      <td>0</td>\n",
       "      <td>0</td>\n",
       "      <td>0</td>\n",
       "      <td>0</td>\n",
       "      <td>0</td>\n",
       "      <td>0</td>\n",
       "      <td>0</td>\n",
       "      <td>42</td>\n",
       "      <td>../input/petfinder-pawpularity-score/train/000...</td>\n",
       "      <td>2</td>\n",
       "    </tr>\n",
       "    <tr>\n",
       "      <th>2</th>\n",
       "      <td>0013fd999caf9a3efe1352ca1b0d937e</td>\n",
       "      <td>0</td>\n",
       "      <td>1</td>\n",
       "      <td>1</td>\n",
       "      <td>1</td>\n",
       "      <td>0</td>\n",
       "      <td>0</td>\n",
       "      <td>0</td>\n",
       "      <td>0</td>\n",
       "      <td>1</td>\n",
       "      <td>1</td>\n",
       "      <td>0</td>\n",
       "      <td>0</td>\n",
       "      <td>28</td>\n",
       "      <td>../input/petfinder-pawpularity-score/train/001...</td>\n",
       "      <td>0</td>\n",
       "    </tr>\n",
       "    <tr>\n",
       "      <th>3</th>\n",
       "      <td>0018df346ac9c1d8413cfcc888ca8246</td>\n",
       "      <td>0</td>\n",
       "      <td>1</td>\n",
       "      <td>1</td>\n",
       "      <td>1</td>\n",
       "      <td>0</td>\n",
       "      <td>0</td>\n",
       "      <td>0</td>\n",
       "      <td>0</td>\n",
       "      <td>0</td>\n",
       "      <td>0</td>\n",
       "      <td>0</td>\n",
       "      <td>0</td>\n",
       "      <td>15</td>\n",
       "      <td>../input/petfinder-pawpularity-score/train/001...</td>\n",
       "      <td>3</td>\n",
       "    </tr>\n",
       "    <tr>\n",
       "      <th>4</th>\n",
       "      <td>001dc955e10590d3ca4673f034feeef2</td>\n",
       "      <td>0</td>\n",
       "      <td>0</td>\n",
       "      <td>0</td>\n",
       "      <td>1</td>\n",
       "      <td>0</td>\n",
       "      <td>0</td>\n",
       "      <td>1</td>\n",
       "      <td>0</td>\n",
       "      <td>0</td>\n",
       "      <td>0</td>\n",
       "      <td>0</td>\n",
       "      <td>0</td>\n",
       "      <td>72</td>\n",
       "      <td>../input/petfinder-pawpularity-score/train/001...</td>\n",
       "      <td>4</td>\n",
       "    </tr>\n",
       "  </tbody>\n",
       "</table>\n",
       "</div>"
      ],
      "text/plain": [
       "                                 Id  Subject Focus  Eyes  Face  Near  Action  \\\n",
       "0  0007de18844b0dbbb5e1f607da0606e0              0     1     1     1       0   \n",
       "1  0009c66b9439883ba2750fb825e1d7db              0     1     1     0       0   \n",
       "2  0013fd999caf9a3efe1352ca1b0d937e              0     1     1     1       0   \n",
       "3  0018df346ac9c1d8413cfcc888ca8246              0     1     1     1       0   \n",
       "4  001dc955e10590d3ca4673f034feeef2              0     0     0     1       0   \n",
       "\n",
       "   Accessory  Group  Collage  Human  Occlusion  Info  Blur  Pawpularity  \\\n",
       "0          0      1        0      0          0     0     0           63   \n",
       "1          0      0        0      0          0     0     0           42   \n",
       "2          0      0        0      1          1     0     0           28   \n",
       "3          0      0        0      0          0     0     0           15   \n",
       "4          0      1        0      0          0     0     0           72   \n",
       "\n",
       "                                           file_path  kfold  \n",
       "0  ../input/petfinder-pawpularity-score/train/000...      0  \n",
       "1  ../input/petfinder-pawpularity-score/train/000...      2  \n",
       "2  ../input/petfinder-pawpularity-score/train/001...      0  \n",
       "3  ../input/petfinder-pawpularity-score/train/001...      3  \n",
       "4  ../input/petfinder-pawpularity-score/train/001...      4  "
      ]
     },
     "execution_count": 13,
     "metadata": {},
     "output_type": "execute_result"
    }
   ],
   "source": [
    "df = create_folds(df, n_s=CONFIG['n_fold'], n_grp=14)\n",
    "df.head()"
   ]
  },
  {
   "cell_type": "code",
   "execution_count": 14,
   "id": "e8945a70",
   "metadata": {
    "execution": {
     "iopub.execute_input": "2021-12-18T22:26:02.005316Z",
     "iopub.status.busy": "2021-12-18T22:26:02.004546Z",
     "iopub.status.idle": "2021-12-18T22:26:02.010981Z",
     "shell.execute_reply": "2021-12-18T22:26:02.011339Z",
     "shell.execute_reply.started": "2021-12-18T22:18:43.021736Z"
    },
    "papermill": {
     "duration": 0.037413,
     "end_time": "2021-12-18T22:26:02.011452",
     "exception": false,
     "start_time": "2021-12-18T22:26:01.974039",
     "status": "completed"
    },
    "tags": []
   },
   "outputs": [],
   "source": [
    "class PawpularityDataset(Dataset):\n",
    "    def __init__(self, root_dir, df, transforms=None):\n",
    "        self.root_dir = root_dir\n",
    "        self.df = df\n",
    "        self.file_names = df['file_path'].values\n",
    "        self.targets = df['Pawpularity'].values\n",
    "        self.transforms = transforms\n",
    "        \n",
    "    def __len__(self):\n",
    "        return len(self.df)\n",
    "    \n",
    "    def __getitem__(self, index):\n",
    "        img_path = self.file_names[index]\n",
    "        img = cv2.imread(img_path)\n",
    "        img = cv2.cvtColor(img, cv2.COLOR_BGR2RGB)\n",
    "        target = self.targets[index]\n",
    "        \n",
    "        if self.transforms:\n",
    "            img = self.transforms(image=img)[\"image\"]\n",
    "            \n",
    "        return img, target\n"
   ]
  },
  {
   "cell_type": "code",
   "execution_count": 15,
   "id": "bd73aeaf",
   "metadata": {
    "execution": {
     "iopub.execute_input": "2021-12-18T22:26:02.076661Z",
     "iopub.status.busy": "2021-12-18T22:26:02.075785Z",
     "iopub.status.idle": "2021-12-18T22:26:02.077953Z",
     "shell.execute_reply": "2021-12-18T22:26:02.078347Z",
     "shell.execute_reply.started": "2021-12-18T22:18:43.032042Z"
    },
    "papermill": {
     "duration": 0.038565,
     "end_time": "2021-12-18T22:26:02.078466",
     "exception": false,
     "start_time": "2021-12-18T22:26:02.039901",
     "status": "completed"
    },
    "tags": []
   },
   "outputs": [],
   "source": [
    "data_transforms = {\n",
    "    \"train\": A.Compose([\n",
    "        A.Resize(CONFIG['img_size'], CONFIG['img_size']),\n",
    "        A.HorizontalFlip(p=0.5),\n",
    "        A.Normalize(\n",
    "                mean=[0.485, 0.456, 0.406], \n",
    "                std=[0.229, 0.224, 0.225], \n",
    "                max_pixel_value=255.0, \n",
    "                p=1.0\n",
    "            ),\n",
    "        ToTensorV2()], p=1.),\n",
    "    \n",
    "    \"valid\": A.Compose([\n",
    "        A.Resize(CONFIG['img_size'], CONFIG['img_size']),\n",
    "        A.Normalize(\n",
    "                mean=[0.485, 0.456, 0.406], \n",
    "                std=[0.229, 0.224, 0.225], \n",
    "                max_pixel_value=255.0, \n",
    "                p=1.0\n",
    "            ),\n",
    "        ToTensorV2()], p=1.)\n",
    "}"
   ]
  },
  {
   "cell_type": "code",
   "execution_count": 16,
   "id": "da12d8c5",
   "metadata": {
    "execution": {
     "iopub.execute_input": "2021-12-18T22:26:02.147918Z",
     "iopub.status.busy": "2021-12-18T22:26:02.147369Z",
     "iopub.status.idle": "2021-12-18T22:26:48.088377Z",
     "shell.execute_reply": "2021-12-18T22:26:48.087406Z",
     "shell.execute_reply.started": "2021-12-18T22:18:43.044840Z"
    },
    "papermill": {
     "duration": 45.97947,
     "end_time": "2021-12-18T22:26:48.088541",
     "exception": false,
     "start_time": "2021-12-18T22:26:02.109071",
     "status": "completed"
    },
    "tags": []
   },
   "outputs": [
    {
     "name": "stderr",
     "output_type": "stream",
     "text": [
      "Downloading: \"https://github.com/SwinTransformer/storage/releases/download/v1.0.0/swin_large_patch4_window12_384_22k.pth\" to /root/.cache/torch/hub/checkpoints/swin_large_patch4_window12_384_22k.pth\n"
     ]
    }
   ],
   "source": [
    "class PawpularityModel(nn.Module):\n",
    "    def __init__(self, backbone, embedder, pretrained=True):\n",
    "        super(PawpularityModel, self).__init__()\n",
    "        self.backbone = timm.create_model(backbone, pretrained=pretrained)\n",
    "        self.n_features = self.backbone.head.in_features\n",
    "        self.backbone.reset_classifier(0)\n",
    "        self.fc = nn.Linear(self.n_features, CONFIG['num_classes'])\n",
    "\n",
    "    def forward(self, images):\n",
    "        features = self.backbone(images)              # features = (bs, embedding_size)\n",
    "        output = self.fc(features)                    # outputs  = (bs, num_classes)\n",
    "        return output\n",
    "    \n",
    "model = PawpularityModel(CONFIG['backbone'], CONFIG['embedder'])\n",
    "model.to(CONFIG['device']);"
   ]
  },
  {
   "cell_type": "code",
   "execution_count": 17,
   "id": "73a6ff94",
   "metadata": {
    "execution": {
     "iopub.execute_input": "2021-12-18T22:26:48.157441Z",
     "iopub.status.busy": "2021-12-18T22:26:48.156690Z",
     "iopub.status.idle": "2021-12-18T22:26:48.158828Z",
     "shell.execute_reply": "2021-12-18T22:26:48.159305Z",
     "shell.execute_reply.started": "2021-12-18T22:19:25.447905Z"
    },
    "papermill": {
     "duration": 0.03712,
     "end_time": "2021-12-18T22:26:48.159437",
     "exception": false,
     "start_time": "2021-12-18T22:26:48.122317",
     "status": "completed"
    },
    "tags": []
   },
   "outputs": [],
   "source": [
    "def criterion(outputs, targets):\n",
    "    return torch.sqrt(nn.MSELoss()(outputs.view(-1), targets.view(-1)))"
   ]
  },
  {
   "cell_type": "code",
   "execution_count": 18,
   "id": "f4c1c1d7",
   "metadata": {
    "execution": {
     "iopub.execute_input": "2021-12-18T22:26:48.222430Z",
     "iopub.status.busy": "2021-12-18T22:26:48.221598Z",
     "iopub.status.idle": "2021-12-18T22:26:48.231001Z",
     "shell.execute_reply": "2021-12-18T22:26:48.230586Z",
     "shell.execute_reply.started": "2021-12-18T22:19:25.455545Z"
    },
    "papermill": {
     "duration": 0.041476,
     "end_time": "2021-12-18T22:26:48.231102",
     "exception": false,
     "start_time": "2021-12-18T22:26:48.189626",
     "status": "completed"
    },
    "tags": []
   },
   "outputs": [],
   "source": [
    "def train_one_epoch(model, optimizer, scheduler, dataloader, device, epoch):\n",
    "    model.train()\n",
    "    scaler = amp.GradScaler()\n",
    "    \n",
    "    dataset_size = 0\n",
    "    running_loss = 0.0\n",
    "    \n",
    "    bar = tqdm(enumerate(dataloader), total=len(dataloader))\n",
    "    for step, (images, targets) in bar:         \n",
    "        images = images.to(device, dtype=torch.float)\n",
    "        targets = targets.to(device, dtype=torch.float)\n",
    "        \n",
    "        batch_size = images.size(0)\n",
    "        \n",
    "        with amp.autocast(enabled=True):\n",
    "            outputs = model(images)\n",
    "            loss = criterion(outputs, targets)\n",
    "            loss = loss / CONFIG['n_accumulate']\n",
    "            \n",
    "        scaler.scale(loss).backward()\n",
    "    \n",
    "        if (step + 1) % CONFIG['n_accumulate'] == 0:\n",
    "            scaler.step(optimizer)\n",
    "            scaler.update()\n",
    "\n",
    "            # zero the parameter gradients\n",
    "            optimizer.zero_grad()\n",
    "\n",
    "            if scheduler is not None:\n",
    "                scheduler.step()\n",
    "                \n",
    "        running_loss += (loss.item() * batch_size)\n",
    "        dataset_size += batch_size\n",
    "        \n",
    "        epoch_loss = running_loss / dataset_size\n",
    "        \n",
    "        bar.set_postfix(Epoch=epoch, Train_Loss=epoch_loss,\n",
    "                        LR=optimizer.param_groups[0]['lr'])\n",
    "    gc.collect()\n",
    "    \n",
    "    return epoch_loss"
   ]
  },
  {
   "cell_type": "code",
   "execution_count": 19,
   "id": "002892c6",
   "metadata": {
    "execution": {
     "iopub.execute_input": "2021-12-18T22:26:48.302095Z",
     "iopub.status.busy": "2021-12-18T22:26:48.301349Z",
     "iopub.status.idle": "2021-12-18T22:26:48.304058Z",
     "shell.execute_reply": "2021-12-18T22:26:48.304432Z",
     "shell.execute_reply.started": "2021-12-18T22:19:27.608128Z"
    },
    "papermill": {
     "duration": 0.043413,
     "end_time": "2021-12-18T22:26:48.304551",
     "exception": false,
     "start_time": "2021-12-18T22:26:48.261138",
     "status": "completed"
    },
    "tags": []
   },
   "outputs": [],
   "source": [
    "@torch.no_grad()\n",
    "def valid_one_epoch(model, dataloader, device, epoch):\n",
    "    model.eval()\n",
    "    \n",
    "    dataset_size = 0\n",
    "    running_loss = 0.0\n",
    "    \n",
    "    TARGETS = []\n",
    "    PREDS = []\n",
    "    \n",
    "    bar = tqdm(enumerate(dataloader), total=len(dataloader))\n",
    "    for step, (images, targets) in bar:        \n",
    "        images = images.to(device, dtype=torch.float)\n",
    "        targets = targets.to(device, dtype=torch.float)\n",
    "        \n",
    "        batch_size = images.size(0)\n",
    "        \n",
    "        outputs = model(images)\n",
    "        loss = criterion(outputs, targets)\n",
    "        \n",
    "        running_loss += (loss.item() * batch_size)\n",
    "        dataset_size += batch_size\n",
    "        \n",
    "        epoch_loss = running_loss / dataset_size\n",
    "        \n",
    "        PREDS.append(outputs.view(-1).cpu().detach().numpy())\n",
    "        TARGETS.append(targets.view(-1).cpu().detach().numpy())\n",
    "        \n",
    "        bar.set_postfix(Epoch=epoch, Valid_Loss=epoch_loss,\n",
    "                        LR=optimizer.param_groups[0]['lr'])   \n",
    "    \n",
    "    TARGETS = np.concatenate(TARGETS)\n",
    "    PREDS = np.concatenate(PREDS)\n",
    "    val_rmse = mean_squared_error(TARGETS, PREDS, squared=False)\n",
    "    gc.collect()\n",
    "    \n",
    "    return epoch_loss, val_rmse"
   ]
  },
  {
   "cell_type": "code",
   "execution_count": 20,
   "id": "a031a2c9",
   "metadata": {
    "execution": {
     "iopub.execute_input": "2021-12-18T22:26:48.376523Z",
     "iopub.status.busy": "2021-12-18T22:26:48.375776Z",
     "iopub.status.idle": "2021-12-18T22:26:48.378245Z",
     "shell.execute_reply": "2021-12-18T22:26:48.377833Z",
     "shell.execute_reply.started": "2021-12-18T22:19:27.620476Z"
    },
    "papermill": {
     "duration": 0.04345,
     "end_time": "2021-12-18T22:26:48.378348",
     "exception": false,
     "start_time": "2021-12-18T22:26:48.334898",
     "status": "completed"
    },
    "tags": []
   },
   "outputs": [],
   "source": [
    "def run_training(model, optimizer, scheduler, device, num_epochs):\n",
    "    # To automatically log gradients\n",
    "    wandb.watch(model, log_freq=100)\n",
    "    \n",
    "    if torch.cuda.is_available():\n",
    "        print(\"[INFO] Using GPU: {}\\n\".format(torch.cuda.get_device_name()))\n",
    "    \n",
    "    start = time.time()\n",
    "    best_model_wts = copy.deepcopy(model.state_dict())\n",
    "    best_epoch_rmse = np.inf\n",
    "    history = defaultdict(list)\n",
    "    \n",
    "    for epoch in range(1, num_epochs + 1): \n",
    "        gc.collect()\n",
    "        train_epoch_loss = train_one_epoch(model, optimizer, scheduler, \n",
    "                                           dataloader=train_loader, \n",
    "                                           device=CONFIG['device'], epoch=epoch)\n",
    "        \n",
    "        val_epoch_loss, val_epoch_rmse = valid_one_epoch(model, valid_loader, \n",
    "                                                         device=CONFIG['device'], \n",
    "                                                         epoch=epoch)\n",
    "    \n",
    "        history['Train Loss'].append(train_epoch_loss)\n",
    "        history['Valid Loss'].append(val_epoch_loss)\n",
    "        history['Valid RMSE'].append(val_epoch_rmse)\n",
    "        \n",
    "        # Log the metrics\n",
    "        wandb.log({\"Train Loss\": train_epoch_loss})\n",
    "        wandb.log({\"Valid Loss\": val_epoch_loss})\n",
    "        wandb.log({\"Valid RMSE\": val_epoch_rmse})\n",
    "        \n",
    "        print(f'Valid RMSE: {val_epoch_rmse}')\n",
    "        \n",
    "        # deep copy the model\n",
    "        if val_epoch_rmse <= best_epoch_rmse:\n",
    "            print(f\"{c_}Validation Loss Improved ({best_epoch_rmse} ---> {val_epoch_rmse})\")\n",
    "            best_epoch_rmse = val_epoch_rmse\n",
    "            run.summary[\"Best RMSE\"] = best_epoch_rmse\n",
    "            best_model_wts = copy.deepcopy(model.state_dict())\n",
    "            PATH = \"RMSE{:.4f}_epoch{:.0f}.bin\".format(best_epoch_rmse, epoch)\n",
    "            torch.save(model.state_dict(), PATH)\n",
    "            # Save a model file from the current directory\n",
    "            wandb.save(PATH)\n",
    "            print(f\"Model Saved{sr_}\")\n",
    "            \n",
    "        print()\n",
    "    \n",
    "    end = time.time()\n",
    "    time_elapsed = end - start\n",
    "    print('Training complete in {:.0f}h {:.0f}m {:.0f}s'.format(\n",
    "        time_elapsed // 3600, (time_elapsed % 3600) // 60, (time_elapsed % 3600) % 60))\n",
    "    print(\"Best RMSE: {:.4f}\".format(best_epoch_rmse))\n",
    "    \n",
    "    # load best model weights\n",
    "    model.load_state_dict(best_model_wts)\n",
    "    \n",
    "    return model, history\n"
   ]
  },
  {
   "cell_type": "code",
   "execution_count": 21,
   "id": "49494b2d",
   "metadata": {
    "execution": {
     "iopub.execute_input": "2021-12-18T22:26:48.444941Z",
     "iopub.status.busy": "2021-12-18T22:26:48.444194Z",
     "iopub.status.idle": "2021-12-18T22:26:48.446548Z",
     "shell.execute_reply": "2021-12-18T22:26:48.446019Z",
     "shell.execute_reply.started": "2021-12-18T22:19:27.636999Z"
    },
    "papermill": {
     "duration": 0.038558,
     "end_time": "2021-12-18T22:26:48.446700",
     "exception": false,
     "start_time": "2021-12-18T22:26:48.408142",
     "status": "completed"
    },
    "tags": []
   },
   "outputs": [],
   "source": [
    "def prepare_loaders(fold):\n",
    "    df_train = df[df.kfold != fold].reset_index(drop=True)\n",
    "    df_valid = df[df.kfold == fold].reset_index(drop=True)\n",
    "    \n",
    "    train_dataset = PawpularityDataset(TRAIN_DIR, df_train, transforms=data_transforms['train'])\n",
    "    valid_dataset = PawpularityDataset(TRAIN_DIR, df_valid, transforms=data_transforms['valid'])\n",
    "\n",
    "    train_loader = DataLoader(train_dataset, batch_size=CONFIG['train_batch_size'], \n",
    "                              num_workers=4, shuffle=True, pin_memory=True, drop_last=True)\n",
    "    valid_loader = DataLoader(valid_dataset, batch_size=CONFIG['valid_batch_size'], \n",
    "                              num_workers=4, shuffle=False, pin_memory=True)\n",
    "    \n",
    "    return train_loader, valid_loader"
   ]
  },
  {
   "cell_type": "code",
   "execution_count": 22,
   "id": "ab12c0e3",
   "metadata": {
    "execution": {
     "iopub.execute_input": "2021-12-18T22:26:48.516682Z",
     "iopub.status.busy": "2021-12-18T22:26:48.515759Z",
     "iopub.status.idle": "2021-12-18T22:26:48.517812Z",
     "shell.execute_reply": "2021-12-18T22:26:48.518276Z",
     "shell.execute_reply.started": "2021-12-18T22:19:27.647515Z"
    },
    "papermill": {
     "duration": 0.042127,
     "end_time": "2021-12-18T22:26:48.518414",
     "exception": false,
     "start_time": "2021-12-18T22:26:48.476287",
     "status": "completed"
    },
    "tags": []
   },
   "outputs": [],
   "source": [
    "def fetch_scheduler(optimizer):\n",
    "    if CONFIG['scheduler'] == 'CosineAnnealingLR':\n",
    "        scheduler = lr_scheduler.CosineAnnealingLR(optimizer,T_max=CONFIG['T_max'], \n",
    "                                                   eta_min=CONFIG['min_lr'])\n",
    "    elif CONFIG['scheduler'] == 'CosineAnnealingWarmRestarts':\n",
    "        scheduler = lr_scheduler.CosineAnnealingWarmRestarts(optimizer,T_0=CONFIG['T_0'], \n",
    "                                                             eta_min=CONFIG['min_lr'])\n",
    "    elif CONFIG['scheduler'] == None:\n",
    "        return None\n",
    "        \n",
    "    return scheduler\n"
   ]
  },
  {
   "cell_type": "code",
   "execution_count": 23,
   "id": "74e616a4",
   "metadata": {
    "execution": {
     "iopub.execute_input": "2021-12-18T22:26:48.587828Z",
     "iopub.status.busy": "2021-12-18T22:26:48.586904Z",
     "iopub.status.idle": "2021-12-18T22:26:48.592688Z",
     "shell.execute_reply": "2021-12-18T22:26:48.592199Z",
     "shell.execute_reply.started": "2021-12-18T22:19:27.659826Z"
    },
    "papermill": {
     "duration": 0.042041,
     "end_time": "2021-12-18T22:26:48.592796",
     "exception": false,
     "start_time": "2021-12-18T22:26:48.550755",
     "status": "completed"
    },
    "tags": []
   },
   "outputs": [],
   "source": [
    "train_loader, valid_loader = prepare_loaders(fold=0)"
   ]
  },
  {
   "cell_type": "code",
   "execution_count": 24,
   "id": "d2a1791b",
   "metadata": {
    "execution": {
     "iopub.execute_input": "2021-12-18T22:26:48.659385Z",
     "iopub.status.busy": "2021-12-18T22:26:48.658659Z",
     "iopub.status.idle": "2021-12-18T22:26:48.660862Z",
     "shell.execute_reply": "2021-12-18T22:26:48.661263Z",
     "shell.execute_reply.started": "2021-12-18T22:19:27.672381Z"
    },
    "papermill": {
     "duration": 0.038818,
     "end_time": "2021-12-18T22:26:48.661389",
     "exception": false,
     "start_time": "2021-12-18T22:26:48.622571",
     "status": "completed"
    },
    "tags": []
   },
   "outputs": [],
   "source": [
    "optimizer = optim.Adam(model.parameters(), lr=CONFIG['learning_rate'], weight_decay=CONFIG['weight_decay'])\n",
    "scheduler = fetch_scheduler(optimizer)"
   ]
  },
  {
   "cell_type": "code",
   "execution_count": 25,
   "id": "e9130483",
   "metadata": {
    "execution": {
     "iopub.execute_input": "2021-12-18T22:26:48.743907Z",
     "iopub.status.busy": "2021-12-18T22:26:48.735968Z",
     "iopub.status.idle": "2021-12-18T22:26:56.127975Z",
     "shell.execute_reply": "2021-12-18T22:26:56.127159Z",
     "shell.execute_reply.started": "2021-12-18T22:19:27.679932Z"
    },
    "papermill": {
     "duration": 7.436447,
     "end_time": "2021-12-18T22:26:56.128109",
     "exception": false,
     "start_time": "2021-12-18T22:26:48.691662",
     "status": "completed"
    },
    "tags": []
   },
   "outputs": [
    {
     "name": "stderr",
     "output_type": "stream",
     "text": [
      "\u001b[34m\u001b[1mwandb\u001b[0m: Currently logged in as: \u001b[33maishikai\u001b[0m (use `wandb login --relogin` to force relogin)\n"
     ]
    },
    {
     "data": {
      "text/html": [
       "\n",
       "                    Syncing run <strong><a href=\"https://wandb.ai/aishikai/Pawpularity/runs/q2256gbf\" target=\"_blank\">celestial-haze-6</a></strong> to <a href=\"https://wandb.ai/aishikai/Pawpularity\" target=\"_blank\">Weights & Biases</a> (<a href=\"https://docs.wandb.com/integrations/jupyter.html\" target=\"_blank\">docs</a>).<br/>\n",
       "\n",
       "                "
      ],
      "text/plain": [
       "<IPython.core.display.HTML object>"
      ]
     },
     "metadata": {},
     "output_type": "display_data"
    }
   ],
   "source": [
    "run = wandb.init(project='Pawpularity', \n",
    "                 config=CONFIG,\n",
    "                 job_type='Train',\n",
    "                 anonymous='must')"
   ]
  },
  {
   "cell_type": "code",
   "execution_count": 26,
   "id": "9c13c490",
   "metadata": {
    "execution": {
     "iopub.execute_input": "2021-12-18T22:26:56.199785Z",
     "iopub.status.busy": "2021-12-18T22:26:56.198946Z",
     "iopub.status.idle": "2021-12-19T06:31:11.959055Z",
     "shell.execute_reply": "2021-12-19T06:31:11.959899Z"
    },
    "papermill": {
     "duration": 29055.801334,
     "end_time": "2021-12-19T06:31:11.960146",
     "exception": false,
     "start_time": "2021-12-18T22:26:56.158812",
     "status": "completed"
    },
    "tags": []
   },
   "outputs": [
    {
     "name": "stdout",
     "output_type": "stream",
     "text": [
      "[INFO] Using GPU: Tesla P100-PCIE-16GB\n",
      "\n"
     ]
    },
    {
     "name": "stderr",
     "output_type": "stream",
     "text": [
      "100%|██████████| 991/991 [22:17<00:00,  1.35s/it, Epoch=1, LR=9.8e-5, Train_Loss=19.8]\n",
      "100%|██████████| 62/62 [01:34<00:00,  1.52s/it, Epoch=1, LR=9.8e-5, Valid_Loss=20.4]\n"
     ]
    },
    {
     "name": "stdout",
     "output_type": "stream",
     "text": [
      "Valid RMSE: 20.67266273498535\n",
      "\u001b[36mValidation Loss Improved (inf ---> 20.67266273498535)\n",
      "Model Saved\u001b[0m\n",
      "\n"
     ]
    },
    {
     "name": "stderr",
     "output_type": "stream",
     "text": [
      "100%|██████████| 991/991 [22:19<00:00,  1.35s/it, Epoch=2, LR=9.23e-5, Train_Loss=19.5]\n",
      "100%|██████████| 62/62 [01:34<00:00,  1.52s/it, Epoch=2, LR=9.23e-5, Valid_Loss=20.4]\n"
     ]
    },
    {
     "name": "stdout",
     "output_type": "stream",
     "text": [
      "Valid RMSE: 20.617847442626953\n",
      "\u001b[36mValidation Loss Improved (20.67266273498535 ---> 20.617847442626953)\n",
      "Model Saved\u001b[0m\n",
      "\n"
     ]
    },
    {
     "name": "stderr",
     "output_type": "stream",
     "text": [
      "100%|██████████| 991/991 [22:28<00:00,  1.36s/it, Epoch=3, LR=8.32e-5, Train_Loss=19.5]\n",
      "100%|██████████| 62/62 [01:35<00:00,  1.53s/it, Epoch=3, LR=8.32e-5, Valid_Loss=20.4]\n"
     ]
    },
    {
     "name": "stdout",
     "output_type": "stream",
     "text": [
      "Valid RMSE: 20.62702178955078\n",
      "\n"
     ]
    },
    {
     "name": "stderr",
     "output_type": "stream",
     "text": [
      "100%|██████████| 991/991 [22:34<00:00,  1.37s/it, Epoch=4, LR=7.16e-5, Train_Loss=19.6]\n",
      "100%|██████████| 62/62 [01:35<00:00,  1.54s/it, Epoch=4, LR=7.16e-5, Valid_Loss=20.5]\n"
     ]
    },
    {
     "name": "stdout",
     "output_type": "stream",
     "text": [
      "Valid RMSE: 20.810625076293945\n",
      "\n"
     ]
    },
    {
     "name": "stderr",
     "output_type": "stream",
     "text": [
      "100%|██████████| 991/991 [22:38<00:00,  1.37s/it, Epoch=5, LR=5.82e-5, Train_Loss=19.5]\n",
      "100%|██████████| 62/62 [01:35<00:00,  1.53s/it, Epoch=5, LR=5.82e-5, Valid_Loss=20.4]\n"
     ]
    },
    {
     "name": "stdout",
     "output_type": "stream",
     "text": [
      "Valid RMSE: 20.595571517944336\n",
      "\u001b[36mValidation Loss Improved (20.617847442626953 ---> 20.595571517944336)\n",
      "Model Saved\u001b[0m\n",
      "\n"
     ]
    },
    {
     "name": "stderr",
     "output_type": "stream",
     "text": [
      "100%|██████████| 991/991 [22:42<00:00,  1.37s/it, Epoch=6, LR=4.43e-5, Train_Loss=19.5]\n",
      "100%|██████████| 62/62 [01:35<00:00,  1.55s/it, Epoch=6, LR=4.43e-5, Valid_Loss=20.4]\n"
     ]
    },
    {
     "name": "stdout",
     "output_type": "stream",
     "text": [
      "Valid RMSE: 20.6302490234375\n",
      "\n"
     ]
    },
    {
     "name": "stderr",
     "output_type": "stream",
     "text": [
      "100%|██████████| 991/991 [22:29<00:00,  1.36s/it, Epoch=7, LR=3.08e-5, Train_Loss=19.5]\n",
      "100%|██████████| 62/62 [01:34<00:00,  1.53s/it, Epoch=7, LR=3.08e-5, Valid_Loss=20.4]\n"
     ]
    },
    {
     "name": "stdout",
     "output_type": "stream",
     "text": [
      "Valid RMSE: 20.604991912841797\n",
      "\n"
     ]
    },
    {
     "name": "stderr",
     "output_type": "stream",
     "text": [
      "100%|██████████| 991/991 [22:35<00:00,  1.37s/it, Epoch=8, LR=1.89e-5, Train_Loss=19.5]\n",
      "100%|██████████| 62/62 [01:35<00:00,  1.54s/it, Epoch=8, LR=1.89e-5, Valid_Loss=20.4]\n"
     ]
    },
    {
     "name": "stdout",
     "output_type": "stream",
     "text": [
      "Valid RMSE: 20.588674545288086\n",
      "\u001b[36mValidation Loss Improved (20.595571517944336 ---> 20.588674545288086)\n",
      "Model Saved\u001b[0m\n",
      "\n"
     ]
    },
    {
     "name": "stderr",
     "output_type": "stream",
     "text": [
      "100%|██████████| 991/991 [22:40<00:00,  1.37s/it, Epoch=9, LR=9.56e-6, Train_Loss=19.6]\n",
      "100%|██████████| 62/62 [01:36<00:00,  1.56s/it, Epoch=9, LR=9.56e-6, Valid_Loss=20.4]\n"
     ]
    },
    {
     "name": "stdout",
     "output_type": "stream",
     "text": [
      "Valid RMSE: 20.633831024169922\n",
      "\n"
     ]
    },
    {
     "name": "stderr",
     "output_type": "stream",
     "text": [
      "100%|██████████| 991/991 [22:40<00:00,  1.37s/it, Epoch=10, LR=3.42e-6, Train_Loss=19.5]\n",
      "100%|██████████| 62/62 [01:35<00:00,  1.55s/it, Epoch=10, LR=3.42e-6, Valid_Loss=20.4]\n"
     ]
    },
    {
     "name": "stdout",
     "output_type": "stream",
     "text": [
      "Valid RMSE: 20.5908145904541\n",
      "\n"
     ]
    },
    {
     "name": "stderr",
     "output_type": "stream",
     "text": [
      "100%|██████████| 991/991 [22:45<00:00,  1.38s/it, Epoch=11, LR=1.02e-6, Train_Loss=19.5]\n",
      "100%|██████████| 62/62 [01:35<00:00,  1.53s/it, Epoch=11, LR=1.02e-6, Valid_Loss=20.4]\n"
     ]
    },
    {
     "name": "stdout",
     "output_type": "stream",
     "text": [
      "Valid RMSE: 20.625694274902344\n",
      "\n"
     ]
    },
    {
     "name": "stderr",
     "output_type": "stream",
     "text": [
      "100%|██████████| 991/991 [22:47<00:00,  1.38s/it, Epoch=12, LR=2.56e-6, Train_Loss=19.5]\n",
      "100%|██████████| 62/62 [01:35<00:00,  1.55s/it, Epoch=12, LR=2.56e-6, Valid_Loss=20.4]\n"
     ]
    },
    {
     "name": "stdout",
     "output_type": "stream",
     "text": [
      "Valid RMSE: 20.623394012451172\n",
      "\n"
     ]
    },
    {
     "name": "stderr",
     "output_type": "stream",
     "text": [
      "100%|██████████| 991/991 [22:33<00:00,  1.37s/it, Epoch=13, LR=7.89e-6, Train_Loss=19.6]\n",
      "100%|██████████| 62/62 [01:36<00:00,  1.55s/it, Epoch=13, LR=7.89e-6, Valid_Loss=20.5]\n"
     ]
    },
    {
     "name": "stdout",
     "output_type": "stream",
     "text": [
      "Valid RMSE: 20.792783737182617\n",
      "\n"
     ]
    },
    {
     "name": "stderr",
     "output_type": "stream",
     "text": [
      "100%|██████████| 991/991 [22:33<00:00,  1.37s/it, Epoch=14, LR=1.66e-5, Train_Loss=19.6]\n",
      "100%|██████████| 62/62 [01:33<00:00,  1.51s/it, Epoch=14, LR=1.66e-5, Valid_Loss=20.4]\n"
     ]
    },
    {
     "name": "stdout",
     "output_type": "stream",
     "text": [
      "Valid RMSE: 20.61182403564453\n",
      "\n"
     ]
    },
    {
     "name": "stderr",
     "output_type": "stream",
     "text": [
      "100%|██████████| 991/991 [22:35<00:00,  1.37s/it, Epoch=15, LR=2.8e-5, Train_Loss=19.4]\n",
      "100%|██████████| 62/62 [01:36<00:00,  1.56s/it, Epoch=15, LR=2.8e-5, Valid_Loss=20.4]\n"
     ]
    },
    {
     "name": "stdout",
     "output_type": "stream",
     "text": [
      "Valid RMSE: 20.5880184173584\n",
      "\u001b[36mValidation Loss Improved (20.588674545288086 ---> 20.5880184173584)\n",
      "Model Saved\u001b[0m\n",
      "\n"
     ]
    },
    {
     "name": "stderr",
     "output_type": "stream",
     "text": [
      "100%|██████████| 991/991 [22:38<00:00,  1.37s/it, Epoch=16, LR=4.12e-5, Train_Loss=19.5]\n",
      "100%|██████████| 62/62 [01:36<00:00,  1.56s/it, Epoch=16, LR=4.12e-5, Valid_Loss=20.4]\n"
     ]
    },
    {
     "name": "stdout",
     "output_type": "stream",
     "text": [
      "Valid RMSE: 20.58802032470703\n",
      "\n"
     ]
    },
    {
     "name": "stderr",
     "output_type": "stream",
     "text": [
      "100%|██████████| 991/991 [22:38<00:00,  1.37s/it, Epoch=17, LR=5.52e-5, Train_Loss=19.5]\n",
      "100%|██████████| 62/62 [01:33<00:00,  1.51s/it, Epoch=17, LR=5.52e-5, Valid_Loss=20.4]\n"
     ]
    },
    {
     "name": "stdout",
     "output_type": "stream",
     "text": [
      "Valid RMSE: 20.68807029724121\n",
      "\n"
     ]
    },
    {
     "name": "stderr",
     "output_type": "stream",
     "text": [
      "100%|██████████| 991/991 [22:39<00:00,  1.37s/it, Epoch=18, LR=6.87e-5, Train_Loss=19.5]\n",
      "100%|██████████| 62/62 [01:37<00:00,  1.57s/it, Epoch=18, LR=6.87e-5, Valid_Loss=20.4]\n"
     ]
    },
    {
     "name": "stdout",
     "output_type": "stream",
     "text": [
      "Valid RMSE: 20.627836227416992\n",
      "\n"
     ]
    },
    {
     "name": "stderr",
     "output_type": "stream",
     "text": [
      "100%|██████████| 991/991 [22:42<00:00,  1.37s/it, Epoch=19, LR=8.08e-5, Train_Loss=19.4]\n",
      "100%|██████████| 62/62 [01:34<00:00,  1.52s/it, Epoch=19, LR=8.08e-5, Valid_Loss=20.4]\n"
     ]
    },
    {
     "name": "stdout",
     "output_type": "stream",
     "text": [
      "Valid RMSE: 20.642253875732422\n",
      "\n"
     ]
    },
    {
     "name": "stderr",
     "output_type": "stream",
     "text": [
      "100%|██████████| 991/991 [22:39<00:00,  1.37s/it, Epoch=20, LR=9.05e-5, Train_Loss=19.5]\n",
      "100%|██████████| 62/62 [01:36<00:00,  1.55s/it, Epoch=20, LR=9.05e-5, Valid_Loss=20.4]\n"
     ]
    },
    {
     "name": "stdout",
     "output_type": "stream",
     "text": [
      "Valid RMSE: 20.59156036376953\n",
      "\n",
      "Training complete in 8h 4m 15s\n",
      "Best RMSE: 20.5880\n"
     ]
    }
   ],
   "source": [
    "model, history = run_training(model, optimizer, scheduler,\n",
    "                              device=CONFIG['device'],\n",
    "                              num_epochs=CONFIG['epochs'])"
   ]
  },
  {
   "cell_type": "code",
   "execution_count": 27,
   "id": "73e5ed86",
   "metadata": {
    "execution": {
     "iopub.execute_input": "2021-12-19T06:31:35.730928Z",
     "iopub.status.busy": "2021-12-19T06:31:35.730027Z",
     "iopub.status.idle": "2021-12-19T06:31:42.243114Z",
     "shell.execute_reply": "2021-12-19T06:31:42.242518Z"
    },
    "papermill": {
     "duration": 18.56181,
     "end_time": "2021-12-19T06:31:42.243254",
     "exception": false,
     "start_time": "2021-12-19T06:31:23.681444",
     "status": "completed"
    },
    "tags": []
   },
   "outputs": [
    {
     "data": {
      "text/html": [
       "<br/>Waiting for W&B process to finish, PID 153... <strong style=\"color:green\">(success).</strong>"
      ],
      "text/plain": [
       "<IPython.core.display.HTML object>"
      ]
     },
     "metadata": {},
     "output_type": "display_data"
    },
    {
     "data": {
      "application/vnd.jupyter.widget-view+json": {
       "model_id": "6467ee470d194190a8bc33927dfb65e9",
       "version_major": 2,
       "version_minor": 0
      },
      "text/plain": [
       "VBox(children=(Label(value=' 3788.79MB of 3788.79MB uploaded (0.00MB deduped)\\r'), FloatProgress(value=1.0, ma…"
      ]
     },
     "metadata": {},
     "output_type": "display_data"
    },
    {
     "data": {
      "text/html": [
       "<style>\n",
       "    table.wandb td:nth-child(1) { padding: 0 10px; text-align: right }\n",
       "    .wandb-row { display: flex; flex-direction: row; flex-wrap: wrap; width: 100% }\n",
       "    .wandb-col { display: flex; flex-direction: column; flex-basis: 100%; flex: 1; padding: 10px; }\n",
       "    </style>\n",
       "<div class=\"wandb-row\"><div class=\"wandb-col\">\n",
       "<h3>Run history:</h3><br/><table class=\"wandb\"><tr><td>Train Loss</td><td>█▃▃▄▃▃▃▂▄▃▃▃▄▄▂▃▃▃▁▂</td></tr><tr><td>Valid Loss</td><td>▃▂▂█▁▂▁▁▂▁▂▂▇▁▁▁▄▂▂▁</td></tr><tr><td>Valid RMSE</td><td>▄▂▂█▁▂▂▁▂▁▂▂▇▂▁▁▄▂▃▁</td></tr></table><br/></div><div class=\"wandb-col\">\n",
       "<h3>Run summary:</h3><br/><table class=\"wandb\"><tr><td>Best RMSE</td><td>20.58802</td></tr><tr><td>Train Loss</td><td>19.4573</td></tr><tr><td>Valid Loss</td><td>20.35369</td></tr><tr><td>Valid RMSE</td><td>20.59156</td></tr></table>\n",
       "</div></div>\n",
       "Synced 5 W&B file(s), 0 media file(s), 4 artifact file(s) and 6 other file(s)\n",
       "<br/>Synced <strong style=\"color:#cdcd00\">celestial-haze-6</strong>: <a href=\"https://wandb.ai/aishikai/Pawpularity/runs/q2256gbf\" target=\"_blank\">https://wandb.ai/aishikai/Pawpularity/runs/q2256gbf</a><br/>\n",
       "Find logs at: <code>./wandb/run-20211218_222648-q2256gbf/logs</code><br/>\n"
      ],
      "text/plain": [
       "<IPython.core.display.HTML object>"
      ]
     },
     "metadata": {},
     "output_type": "display_data"
    }
   ],
   "source": [
    "run.finish()"
   ]
  },
  {
   "cell_type": "code",
   "execution_count": null,
   "id": "7ef5b59e",
   "metadata": {
    "papermill": {
     "duration": 11.450717,
     "end_time": "2021-12-19T06:32:05.082775",
     "exception": false,
     "start_time": "2021-12-19T06:31:53.632058",
     "status": "completed"
    },
    "tags": []
   },
   "outputs": [],
   "source": []
  }
 ],
 "metadata": {
  "kernelspec": {
   "display_name": "Python 3",
   "language": "python",
   "name": "python3"
  },
  "language_info": {
   "codemirror_mode": {
    "name": "ipython",
    "version": 3
   },
   "file_extension": ".py",
   "mimetype": "text/x-python",
   "name": "python",
   "nbconvert_exporter": "python",
   "pygments_lexer": "ipython3",
   "version": "3.7.12"
  },
  "papermill": {
   "default_parameters": {},
   "duration": 29216.724142,
   "end_time": "2021-12-19T06:32:19.525119",
   "environment_variables": {},
   "exception": null,
   "input_path": "__notebook__.ipynb",
   "output_path": "__notebook__.ipynb",
   "parameters": {},
   "start_time": "2021-12-18T22:25:22.800977",
   "version": "2.3.3"
  },
  "widgets": {
   "application/vnd.jupyter.widget-state+json": {
    "state": {
     "0d33ec4e658a4cb980badd512cf125cf": {
      "model_module": "@jupyter-widgets/controls",
      "model_module_version": "1.5.0",
      "model_name": "ProgressStyleModel",
      "state": {
       "_model_module": "@jupyter-widgets/controls",
       "_model_module_version": "1.5.0",
       "_model_name": "ProgressStyleModel",
       "_view_count": null,
       "_view_module": "@jupyter-widgets/base",
       "_view_module_version": "1.2.0",
       "_view_name": "StyleView",
       "bar_color": null,
       "description_width": ""
      }
     },
     "6467ee470d194190a8bc33927dfb65e9": {
      "model_module": "@jupyter-widgets/controls",
      "model_module_version": "1.5.0",
      "model_name": "VBoxModel",
      "state": {
       "_dom_classes": [],
       "_model_module": "@jupyter-widgets/controls",
       "_model_module_version": "1.5.0",
       "_model_name": "VBoxModel",
       "_view_count": null,
       "_view_module": "@jupyter-widgets/controls",
       "_view_module_version": "1.5.0",
       "_view_name": "VBoxView",
       "box_style": "",
       "children": [
        "IPY_MODEL_cfa462aeadc545cd947377c7f15aa1c8",
        "IPY_MODEL_dfd32e3fe9084713978992aae977e00c"
       ],
       "layout": "IPY_MODEL_cc180860dd854eaeb2ece76cc40d5b5c"
      }
     },
     "675f73d655544bb4993f2e59202a06be": {
      "model_module": "@jupyter-widgets/base",
      "model_module_version": "1.2.0",
      "model_name": "LayoutModel",
      "state": {
       "_model_module": "@jupyter-widgets/base",
       "_model_module_version": "1.2.0",
       "_model_name": "LayoutModel",
       "_view_count": null,
       "_view_module": "@jupyter-widgets/base",
       "_view_module_version": "1.2.0",
       "_view_name": "LayoutView",
       "align_content": null,
       "align_items": null,
       "align_self": null,
       "border": null,
       "bottom": null,
       "display": null,
       "flex": null,
       "flex_flow": null,
       "grid_area": null,
       "grid_auto_columns": null,
       "grid_auto_flow": null,
       "grid_auto_rows": null,
       "grid_column": null,
       "grid_gap": null,
       "grid_row": null,
       "grid_template_areas": null,
       "grid_template_columns": null,
       "grid_template_rows": null,
       "height": null,
       "justify_content": null,
       "justify_items": null,
       "left": null,
       "margin": null,
       "max_height": null,
       "max_width": null,
       "min_height": null,
       "min_width": null,
       "object_fit": null,
       "object_position": null,
       "order": null,
       "overflow": null,
       "overflow_x": null,
       "overflow_y": null,
       "padding": null,
       "right": null,
       "top": null,
       "visibility": null,
       "width": null
      }
     },
     "9ace91e93e6a4cd58a3e43eeb4852d06": {
      "model_module": "@jupyter-widgets/base",
      "model_module_version": "1.2.0",
      "model_name": "LayoutModel",
      "state": {
       "_model_module": "@jupyter-widgets/base",
       "_model_module_version": "1.2.0",
       "_model_name": "LayoutModel",
       "_view_count": null,
       "_view_module": "@jupyter-widgets/base",
       "_view_module_version": "1.2.0",
       "_view_name": "LayoutView",
       "align_content": null,
       "align_items": null,
       "align_self": null,
       "border": null,
       "bottom": null,
       "display": null,
       "flex": null,
       "flex_flow": null,
       "grid_area": null,
       "grid_auto_columns": null,
       "grid_auto_flow": null,
       "grid_auto_rows": null,
       "grid_column": null,
       "grid_gap": null,
       "grid_row": null,
       "grid_template_areas": null,
       "grid_template_columns": null,
       "grid_template_rows": null,
       "height": null,
       "justify_content": null,
       "justify_items": null,
       "left": null,
       "margin": null,
       "max_height": null,
       "max_width": null,
       "min_height": null,
       "min_width": null,
       "object_fit": null,
       "object_position": null,
       "order": null,
       "overflow": null,
       "overflow_x": null,
       "overflow_y": null,
       "padding": null,
       "right": null,
       "top": null,
       "visibility": null,
       "width": null
      }
     },
     "cc180860dd854eaeb2ece76cc40d5b5c": {
      "model_module": "@jupyter-widgets/base",
      "model_module_version": "1.2.0",
      "model_name": "LayoutModel",
      "state": {
       "_model_module": "@jupyter-widgets/base",
       "_model_module_version": "1.2.0",
       "_model_name": "LayoutModel",
       "_view_count": null,
       "_view_module": "@jupyter-widgets/base",
       "_view_module_version": "1.2.0",
       "_view_name": "LayoutView",
       "align_content": null,
       "align_items": null,
       "align_self": null,
       "border": null,
       "bottom": null,
       "display": null,
       "flex": null,
       "flex_flow": null,
       "grid_area": null,
       "grid_auto_columns": null,
       "grid_auto_flow": null,
       "grid_auto_rows": null,
       "grid_column": null,
       "grid_gap": null,
       "grid_row": null,
       "grid_template_areas": null,
       "grid_template_columns": null,
       "grid_template_rows": null,
       "height": null,
       "justify_content": null,
       "justify_items": null,
       "left": null,
       "margin": null,
       "max_height": null,
       "max_width": null,
       "min_height": null,
       "min_width": null,
       "object_fit": null,
       "object_position": null,
       "order": null,
       "overflow": null,
       "overflow_x": null,
       "overflow_y": null,
       "padding": null,
       "right": null,
       "top": null,
       "visibility": null,
       "width": null
      }
     },
     "ccac5cf365ba41efbb29259eedb916af": {
      "model_module": "@jupyter-widgets/controls",
      "model_module_version": "1.5.0",
      "model_name": "DescriptionStyleModel",
      "state": {
       "_model_module": "@jupyter-widgets/controls",
       "_model_module_version": "1.5.0",
       "_model_name": "DescriptionStyleModel",
       "_view_count": null,
       "_view_module": "@jupyter-widgets/base",
       "_view_module_version": "1.2.0",
       "_view_name": "StyleView",
       "description_width": ""
      }
     },
     "cfa462aeadc545cd947377c7f15aa1c8": {
      "model_module": "@jupyter-widgets/controls",
      "model_module_version": "1.5.0",
      "model_name": "LabelModel",
      "state": {
       "_dom_classes": [],
       "_model_module": "@jupyter-widgets/controls",
       "_model_module_version": "1.5.0",
       "_model_name": "LabelModel",
       "_view_count": null,
       "_view_module": "@jupyter-widgets/controls",
       "_view_module_version": "1.5.0",
       "_view_name": "LabelView",
       "description": "",
       "description_tooltip": null,
       "layout": "IPY_MODEL_9ace91e93e6a4cd58a3e43eeb4852d06",
       "placeholder": "​",
       "style": "IPY_MODEL_ccac5cf365ba41efbb29259eedb916af",
       "value": " 3789.45MB of 3789.45MB uploaded (0.00MB deduped)\r"
      }
     },
     "dfd32e3fe9084713978992aae977e00c": {
      "model_module": "@jupyter-widgets/controls",
      "model_module_version": "1.5.0",
      "model_name": "FloatProgressModel",
      "state": {
       "_dom_classes": [],
       "_model_module": "@jupyter-widgets/controls",
       "_model_module_version": "1.5.0",
       "_model_name": "FloatProgressModel",
       "_view_count": null,
       "_view_module": "@jupyter-widgets/controls",
       "_view_module_version": "1.5.0",
       "_view_name": "ProgressView",
       "bar_style": "",
       "description": "",
       "description_tooltip": null,
       "layout": "IPY_MODEL_675f73d655544bb4993f2e59202a06be",
       "max": 1.0,
       "min": 0.0,
       "orientation": "horizontal",
       "style": "IPY_MODEL_0d33ec4e658a4cb980badd512cf125cf",
       "value": 1.0
      }
     }
    },
    "version_major": 2,
    "version_minor": 0
   }
  }
 },
 "nbformat": 4,
 "nbformat_minor": 5
}
